{
 "cells": [
  {
   "cell_type": "code",
   "execution_count": 11,
   "metadata": {},
   "outputs": [],
   "source": [
    "import pandas as pd\n",
    "import numpy as np\n",
    "from datetime import datetime, timedelta"
   ]
  },
  {
   "cell_type": "code",
   "execution_count": 12,
   "metadata": {},
   "outputs": [],
   "source": [
    "spray = pd.read_csv('../Kaggle Datasets/spray.csv/spray.csv')\n",
    "train = pd.read_csv('../Kaggle Datasets/train.csv/train.csv')\n",
    "weather = pd.read_csv('../Kaggle Datasets/weather.csv/weather.csv')"
   ]
  },
  {
   "cell_type": "code",
   "execution_count": 13,
   "metadata": {},
   "outputs": [],
   "source": [
    "train.columns = train.columns.str.lower()\n",
    "weather.columns = weather.columns.str.lower()\n",
    "spray.columns = spray.columns.str.lower()"
   ]
  },
  {
   "cell_type": "code",
   "execution_count": 14,
   "metadata": {},
   "outputs": [
    {
     "data": {
      "text/html": [
       "<div>\n",
       "<style scoped>\n",
       "    .dataframe tbody tr th:only-of-type {\n",
       "        vertical-align: middle;\n",
       "    }\n",
       "\n",
       "    .dataframe tbody tr th {\n",
       "        vertical-align: top;\n",
       "    }\n",
       "\n",
       "    .dataframe thead th {\n",
       "        text-align: right;\n",
       "    }\n",
       "</style>\n",
       "<table border=\"1\" class=\"dataframe\">\n",
       "  <thead>\n",
       "    <tr style=\"text-align: right;\">\n",
       "      <th></th>\n",
       "      <th>date</th>\n",
       "      <th>time</th>\n",
       "      <th>latitude</th>\n",
       "      <th>longitude</th>\n",
       "    </tr>\n",
       "  </thead>\n",
       "  <tbody>\n",
       "    <tr>\n",
       "      <th>1030</th>\n",
       "      <td>2011-09-07</td>\n",
       "      <td>NaN</td>\n",
       "      <td>41.987092</td>\n",
       "      <td>-87.794286</td>\n",
       "    </tr>\n",
       "    <tr>\n",
       "      <th>1031</th>\n",
       "      <td>2011-09-07</td>\n",
       "      <td>NaN</td>\n",
       "      <td>41.987620</td>\n",
       "      <td>-87.794382</td>\n",
       "    </tr>\n",
       "    <tr>\n",
       "      <th>1032</th>\n",
       "      <td>2011-09-07</td>\n",
       "      <td>NaN</td>\n",
       "      <td>41.988004</td>\n",
       "      <td>-87.794574</td>\n",
       "    </tr>\n",
       "    <tr>\n",
       "      <th>1033</th>\n",
       "      <td>2011-09-07</td>\n",
       "      <td>NaN</td>\n",
       "      <td>41.988292</td>\n",
       "      <td>-87.795486</td>\n",
       "    </tr>\n",
       "    <tr>\n",
       "      <th>1034</th>\n",
       "      <td>2011-09-07</td>\n",
       "      <td>NaN</td>\n",
       "      <td>41.988100</td>\n",
       "      <td>-87.796014</td>\n",
       "    </tr>\n",
       "    <tr>\n",
       "      <th>...</th>\n",
       "      <td>...</td>\n",
       "      <td>...</td>\n",
       "      <td>...</td>\n",
       "      <td>...</td>\n",
       "    </tr>\n",
       "    <tr>\n",
       "      <th>1609</th>\n",
       "      <td>2011-09-07</td>\n",
       "      <td>NaN</td>\n",
       "      <td>41.995876</td>\n",
       "      <td>-87.811615</td>\n",
       "    </tr>\n",
       "    <tr>\n",
       "      <th>1610</th>\n",
       "      <td>2011-09-07</td>\n",
       "      <td>NaN</td>\n",
       "      <td>41.995972</td>\n",
       "      <td>-87.810271</td>\n",
       "    </tr>\n",
       "    <tr>\n",
       "      <th>1611</th>\n",
       "      <td>2011-09-07</td>\n",
       "      <td>NaN</td>\n",
       "      <td>41.995684</td>\n",
       "      <td>-87.810319</td>\n",
       "    </tr>\n",
       "    <tr>\n",
       "      <th>1612</th>\n",
       "      <td>2011-09-07</td>\n",
       "      <td>NaN</td>\n",
       "      <td>41.994724</td>\n",
       "      <td>-87.810415</td>\n",
       "    </tr>\n",
       "    <tr>\n",
       "      <th>1613</th>\n",
       "      <td>2011-09-07</td>\n",
       "      <td>NaN</td>\n",
       "      <td>41.993092</td>\n",
       "      <td>-87.810415</td>\n",
       "    </tr>\n",
       "  </tbody>\n",
       "</table>\n",
       "<p>584 rows × 4 columns</p>\n",
       "</div>"
      ],
      "text/plain": [
       "            date time   latitude  longitude\n",
       "1030  2011-09-07  NaN  41.987092 -87.794286\n",
       "1031  2011-09-07  NaN  41.987620 -87.794382\n",
       "1032  2011-09-07  NaN  41.988004 -87.794574\n",
       "1033  2011-09-07  NaN  41.988292 -87.795486\n",
       "1034  2011-09-07  NaN  41.988100 -87.796014\n",
       "...          ...  ...        ...        ...\n",
       "1609  2011-09-07  NaN  41.995876 -87.811615\n",
       "1610  2011-09-07  NaN  41.995972 -87.810271\n",
       "1611  2011-09-07  NaN  41.995684 -87.810319\n",
       "1612  2011-09-07  NaN  41.994724 -87.810415\n",
       "1613  2011-09-07  NaN  41.993092 -87.810415\n",
       "\n",
       "[584 rows x 4 columns]"
      ]
     },
     "execution_count": 14,
     "metadata": {},
     "output_type": "execute_result"
    }
   ],
   "source": [
    "spray[spray['time'].isnull()]"
   ]
  },
  {
   "cell_type": "code",
   "execution_count": 15,
   "metadata": {},
   "outputs": [
    {
     "data": {
      "text/plain": [
       "array(['2011-09-07'], dtype=object)"
      ]
     },
     "execution_count": 15,
     "metadata": {},
     "output_type": "execute_result"
    }
   ],
   "source": [
    "spray[spray['time'].isnull()]['date'].unique() #all the missing time records are from 2011-09-07 record"
   ]
  },
  {
   "cell_type": "code",
   "execution_count": 16,
   "metadata": {},
   "outputs": [
    {
     "data": {
      "text/html": [
       "<div>\n",
       "<style scoped>\n",
       "    .dataframe tbody tr th:only-of-type {\n",
       "        vertical-align: middle;\n",
       "    }\n",
       "\n",
       "    .dataframe tbody tr th {\n",
       "        vertical-align: top;\n",
       "    }\n",
       "\n",
       "    .dataframe thead th {\n",
       "        text-align: right;\n",
       "    }\n",
       "</style>\n",
       "<table border=\"1\" class=\"dataframe\">\n",
       "  <thead>\n",
       "    <tr style=\"text-align: right;\">\n",
       "      <th></th>\n",
       "      <th>date</th>\n",
       "      <th>time</th>\n",
       "      <th>latitude</th>\n",
       "      <th>longitude</th>\n",
       "    </tr>\n",
       "  </thead>\n",
       "  <tbody>\n",
       "    <tr>\n",
       "      <th>95</th>\n",
       "      <td>2011-09-07</td>\n",
       "      <td>7:52:52 PM</td>\n",
       "      <td>41.981433</td>\n",
       "      <td>-87.787777</td>\n",
       "    </tr>\n",
       "    <tr>\n",
       "      <th>96</th>\n",
       "      <td>2011-09-07</td>\n",
       "      <td>7:53:02 PM</td>\n",
       "      <td>41.980998</td>\n",
       "      <td>-87.787778</td>\n",
       "    </tr>\n",
       "    <tr>\n",
       "      <th>97</th>\n",
       "      <td>2011-09-07</td>\n",
       "      <td>7:53:12 PM</td>\n",
       "      <td>41.980560</td>\n",
       "      <td>-87.787762</td>\n",
       "    </tr>\n",
       "    <tr>\n",
       "      <th>98</th>\n",
       "      <td>2011-09-07</td>\n",
       "      <td>7:53:22 PM</td>\n",
       "      <td>41.980198</td>\n",
       "      <td>-87.787758</td>\n",
       "    </tr>\n",
       "    <tr>\n",
       "      <th>99</th>\n",
       "      <td>2011-09-07</td>\n",
       "      <td>7:53:32 PM</td>\n",
       "      <td>41.979752</td>\n",
       "      <td>-87.787765</td>\n",
       "    </tr>\n",
       "    <tr>\n",
       "      <th>...</th>\n",
       "      <td>...</td>\n",
       "      <td>...</td>\n",
       "      <td>...</td>\n",
       "      <td>...</td>\n",
       "    </tr>\n",
       "    <tr>\n",
       "      <th>2204</th>\n",
       "      <td>2011-09-07</td>\n",
       "      <td>9:40:30 PM</td>\n",
       "      <td>41.990155</td>\n",
       "      <td>-87.817828</td>\n",
       "    </tr>\n",
       "    <tr>\n",
       "      <th>2205</th>\n",
       "      <td>2011-09-07</td>\n",
       "      <td>9:40:40 PM</td>\n",
       "      <td>41.989638</td>\n",
       "      <td>-87.817857</td>\n",
       "    </tr>\n",
       "    <tr>\n",
       "      <th>2206</th>\n",
       "      <td>2011-09-07</td>\n",
       "      <td>9:40:50 PM</td>\n",
       "      <td>41.989088</td>\n",
       "      <td>-87.817867</td>\n",
       "    </tr>\n",
       "    <tr>\n",
       "      <th>2207</th>\n",
       "      <td>2011-09-07</td>\n",
       "      <td>9:41:00 PM</td>\n",
       "      <td>41.988812</td>\n",
       "      <td>-87.817618</td>\n",
       "    </tr>\n",
       "    <tr>\n",
       "      <th>2208</th>\n",
       "      <td>2011-09-07</td>\n",
       "      <td>9:41:10 PM</td>\n",
       "      <td>41.988837</td>\n",
       "      <td>-87.817002</td>\n",
       "    </tr>\n",
       "  </tbody>\n",
       "</table>\n",
       "<p>2114 rows × 4 columns</p>\n",
       "</div>"
      ],
      "text/plain": [
       "            date        time   latitude  longitude\n",
       "95    2011-09-07  7:52:52 PM  41.981433 -87.787777\n",
       "96    2011-09-07  7:53:02 PM  41.980998 -87.787778\n",
       "97    2011-09-07  7:53:12 PM  41.980560 -87.787762\n",
       "98    2011-09-07  7:53:22 PM  41.980198 -87.787758\n",
       "99    2011-09-07  7:53:32 PM  41.979752 -87.787765\n",
       "...          ...         ...        ...        ...\n",
       "2204  2011-09-07  9:40:30 PM  41.990155 -87.817828\n",
       "2205  2011-09-07  9:40:40 PM  41.989638 -87.817857\n",
       "2206  2011-09-07  9:40:50 PM  41.989088 -87.817867\n",
       "2207  2011-09-07  9:41:00 PM  41.988812 -87.817618\n",
       "2208  2011-09-07  9:41:10 PM  41.988837 -87.817002\n",
       "\n",
       "[2114 rows x 4 columns]"
      ]
     },
     "execution_count": 16,
     "metadata": {},
     "output_type": "execute_result"
    }
   ],
   "source": [
    "spray[spray['date']=='2011-09-07'] #it looks like the time is in chronological order based on index value"
   ]
  },
  {
   "cell_type": "code",
   "execution_count": 17,
   "metadata": {},
   "outputs": [
    {
     "name": "stdout",
     "output_type": "stream",
     "text": [
      "7:44:32 PM\n",
      "\n",
      "7:46:30 PM\n"
     ]
    }
   ],
   "source": [
    "print(spray.iloc[1029]['time'])\n",
    "print()\n",
    "print(spray.iloc[1614]['time'])"
   ]
  },
  {
   "cell_type": "code",
   "execution_count": 18,
   "metadata": {},
   "outputs": [],
   "source": [
    "start_datetime = datetime.strptime(spray.iloc[1029]['time'], \"%I:%M:%S %p\")\n",
    "end_datetime = datetime.strptime(spray.iloc[1614]['time'], \"%I:%M:%S %p\")\n",
    "time_diff = end_datetime - start_datetime\n",
    "interval = time_diff / 584\n",
    "time_points = []\n",
    "for i in range(1, 585):\n",
    "    new_time = start_datetime + (i * interval)\n",
    "    time_points.append(new_time.strftime(\"%I:%M:%S %p\"))\n",
    "\n",
    "time_series = pd.Series(time_points)\n",
    "spray.loc[1030:1613, 'time'] = time_series.astype(str).values\n",
    "\n",
    "spray.drop_duplicates(keep='first', inplace=True)"
   ]
  },
  {
   "attachments": {},
   "cell_type": "markdown",
   "metadata": {},
   "source": [
    "---"
   ]
  },
  {
   "cell_type": "code",
   "execution_count": 19,
   "metadata": {},
   "outputs": [
    {
     "data": {
      "text/plain": [
       "False    2944\n",
       "dtype: int64"
      ]
     },
     "execution_count": 19,
     "metadata": {},
     "output_type": "execute_result"
    }
   ],
   "source": [
    "weather.duplicated().value_counts()  #no duplicate records"
   ]
  },
  {
   "cell_type": "code",
   "execution_count": 20,
   "metadata": {},
   "outputs": [
    {
     "data": {
      "text/plain": [
       "array(['M'], dtype=object)"
      ]
     },
     "execution_count": 20,
     "metadata": {},
     "output_type": "execute_result"
    }
   ],
   "source": [
    "weather['water1'].unique()#all the records for water1 is missing so i will drop this column"
   ]
  },
  {
   "cell_type": "code",
   "execution_count": 21,
   "metadata": {},
   "outputs": [],
   "source": [
    "weather.drop(['water1', 'codesum'], axis=1, inplace=True)"
   ]
  },
  {
   "cell_type": "code",
   "execution_count": 22,
   "metadata": {},
   "outputs": [
    {
     "data": {
      "text/plain": [
       "array([2], dtype=int64)"
      ]
     },
     "execution_count": 22,
     "metadata": {},
     "output_type": "execute_result"
    }
   ],
   "source": [
    "weather[weather['depth'] == 'M']['station'].unique() #All the records from station 2 have missing depth value so i will drop this column"
   ]
  },
  {
   "cell_type": "code",
   "execution_count": 23,
   "metadata": {},
   "outputs": [
    {
     "data": {
      "text/plain": [
       "array([2], dtype=int64)"
      ]
     },
     "execution_count": 23,
     "metadata": {},
     "output_type": "execute_result"
    }
   ],
   "source": [
    "weather[weather['snowfall'] == 'M']['station'].unique() #All the records from station 2 have missing snowfall value so i will drop this column"
   ]
  },
  {
   "cell_type": "code",
   "execution_count": 24,
   "metadata": {},
   "outputs": [
    {
     "data": {
      "text/plain": [
       "array([2], dtype=int64)"
      ]
     },
     "execution_count": 24,
     "metadata": {},
     "output_type": "execute_result"
    }
   ],
   "source": [
    "weather[weather['depart']=='M']['station'].unique() #All the records from station 2 have missing depart value so i will drop this column"
   ]
  },
  {
   "cell_type": "code",
   "execution_count": 25,
   "metadata": {},
   "outputs": [
    {
     "data": {
      "text/plain": [
       "array([2], dtype=int64)"
      ]
     },
     "execution_count": 25,
     "metadata": {},
     "output_type": "execute_result"
    }
   ],
   "source": [
    "weather[weather['sunrise'] == '-']['station'].unique() #All the records from station 2 have missing sunrise value so i will drop this column"
   ]
  },
  {
   "cell_type": "code",
   "execution_count": 26,
   "metadata": {},
   "outputs": [
    {
     "data": {
      "text/plain": [
       "array([2], dtype=int64)"
      ]
     },
     "execution_count": 26,
     "metadata": {},
     "output_type": "execute_result"
    }
   ],
   "source": [
    "weather[weather['sunset'] == '-']['station'].unique() #All the records from station 2 have missing sunset value so i will drop this column"
   ]
  },
  {
   "cell_type": "code",
   "execution_count": 27,
   "metadata": {},
   "outputs": [],
   "source": [
    "station1 = weather[weather['station'] == 1].drop('station', axis=1)\n",
    "station2 = weather[weather['station'] == 2].drop('station', axis=1)\n",
    "\n",
    "weather = station1.merge(station2, on=['date'], suffixes=('_stn1', '_stn2'))\n",
    "weather = weather.drop(['depth_stn2', 'snowfall_stn2', 'depart_stn2', 'sunrise_stn2', 'sunset_stn2'], axis=1)"
   ]
  },
  {
   "cell_type": "code",
   "execution_count": 28,
   "metadata": {},
   "outputs": [
    {
     "name": "stdout",
     "output_type": "stream",
     "text": [
      "<class 'pandas.core.frame.DataFrame'>\n",
      "Int64Index: 1472 entries, 0 to 1471\n",
      "Data columns (total 32 columns):\n",
      " #   Column            Non-Null Count  Dtype  \n",
      "---  ------            --------------  -----  \n",
      " 0   date              1472 non-null   object \n",
      " 1   tmax_stn1         1472 non-null   int64  \n",
      " 2   tmin_stn1         1472 non-null   int64  \n",
      " 3   tavg_stn1         1472 non-null   object \n",
      " 4   depart_stn1       1472 non-null   object \n",
      " 5   dewpoint_stn1     1472 non-null   int64  \n",
      " 6   wetbulb_stn1      1472 non-null   object \n",
      " 7   heat_stn1         1472 non-null   object \n",
      " 8   cool_stn1         1472 non-null   object \n",
      " 9   sunrise_stn1      1472 non-null   object \n",
      " 10  sunset_stn1       1472 non-null   object \n",
      " 11  depth_stn1        1472 non-null   object \n",
      " 12  snowfall_stn1     1472 non-null   object \n",
      " 13  preciptotal_stn1  1472 non-null   object \n",
      " 14  stnpressure_stn1  1472 non-null   object \n",
      " 15  sealevel_stn1     1472 non-null   object \n",
      " 16  resultspeed_stn1  1472 non-null   float64\n",
      " 17  resultdir_stn1    1472 non-null   int64  \n",
      " 18  avgspeed_stn1     1472 non-null   object \n",
      " 19  tmax_stn2         1472 non-null   int64  \n",
      " 20  tmin_stn2         1472 non-null   int64  \n",
      " 21  tavg_stn2         1472 non-null   object \n",
      " 22  dewpoint_stn2     1472 non-null   int64  \n",
      " 23  wetbulb_stn2      1472 non-null   object \n",
      " 24  heat_stn2         1472 non-null   object \n",
      " 25  cool_stn2         1472 non-null   object \n",
      " 26  preciptotal_stn2  1472 non-null   object \n",
      " 27  stnpressure_stn2  1472 non-null   object \n",
      " 28  sealevel_stn2     1472 non-null   object \n",
      " 29  resultspeed_stn2  1472 non-null   float64\n",
      " 30  resultdir_stn2    1472 non-null   int64  \n",
      " 31  avgspeed_stn2     1472 non-null   object \n",
      "dtypes: float64(2), int64(8), object(22)\n",
      "memory usage: 379.5+ KB\n"
     ]
    }
   ],
   "source": [
    "weather.info()"
   ]
  },
  {
   "cell_type": "code",
   "execution_count": 29,
   "metadata": {},
   "outputs": [
    {
     "data": {
      "text/plain": [
       "0       2007-05-01\n",
       "1       2007-05-02\n",
       "2       2007-05-03\n",
       "3       2007-05-04\n",
       "4       2007-05-05\n",
       "           ...    \n",
       "1467    2014-10-27\n",
       "1468    2014-10-28\n",
       "1469    2014-10-29\n",
       "1470    2014-10-30\n",
       "1471    2014-10-31\n",
       "Name: date, Length: 1472, dtype: object"
      ]
     },
     "execution_count": 29,
     "metadata": {},
     "output_type": "execute_result"
    }
   ],
   "source": [
    "weather['date']"
   ]
  },
  {
   "cell_type": "code",
   "execution_count": 30,
   "metadata": {},
   "outputs": [],
   "source": [
    "# Assuming you have a DataFrame called 'data' with the 'date' column\n",
    "weather['date'] = pd.to_datetime(weather['date'])\n",
    "\n",
    "# Extract year, month, and day into separate columns\n",
    "weather['year'] = weather['date'].dt.year\n",
    "weather['month'] = weather['date'].dt.month\n",
    "weather['day'] = weather['date'].dt.day"
   ]
  },
  {
   "cell_type": "code",
   "execution_count": 31,
   "metadata": {},
   "outputs": [
    {
     "data": {
      "text/plain": [
       "Index(['date', 'tavg_stn1', 'depart_stn1', 'wetbulb_stn1', 'heat_stn1',\n",
       "       'cool_stn1', 'sunrise_stn1', 'sunset_stn1', 'depth_stn1',\n",
       "       'snowfall_stn1', 'preciptotal_stn1', 'stnpressure_stn1',\n",
       "       'sealevel_stn1', 'avgspeed_stn1', 'tavg_stn2', 'wetbulb_stn2',\n",
       "       'heat_stn2', 'cool_stn2', 'preciptotal_stn2', 'stnpressure_stn2',\n",
       "       'sealevel_stn2', 'avgspeed_stn2'],\n",
       "      dtype='object')"
      ]
     },
     "execution_count": 31,
     "metadata": {},
     "output_type": "execute_result"
    }
   ],
   "source": [
    "weather.select_dtypes(exclude='number').columns"
   ]
  },
  {
   "cell_type": "code",
   "execution_count": 32,
   "metadata": {},
   "outputs": [
    {
     "name": "stdout",
     "output_type": "stream",
     "text": [
      "tavg_stn1\n",
      "tavg_stn1 have no missing values or trace values and will be converted to numeric\n",
      "-----\n",
      "depart_stn1\n",
      "depart_stn1 have no missing values or trace values and will be converted to numeric\n",
      "-----\n",
      "wetbulb_stn1\n",
      "There are 3 missing values in wetbulb_stn1\n",
      "-----\n",
      "heat_stn1\n",
      "heat_stn1 have no missing values or trace values and will be converted to numeric\n",
      "-----\n",
      "cool_stn1\n",
      "cool_stn1 have no missing values or trace values and will be converted to numeric\n",
      "-----\n",
      "sunrise_stn1\n",
      "sunrise_stn1 have no missing values or trace values and will be converted to numeric\n",
      "-----\n",
      "sunset_stn1\n",
      "sunset_stn1 have no missing values or trace values and will be converted to numeric\n",
      "-----\n",
      "depth_stn1\n",
      "depth_stn1 dropped\n",
      "-----\n",
      "snowfall_stn1\n",
      "There are 12 trace values in snowfall_stn1\n",
      "-----\n",
      "preciptotal_stn1\n",
      "There are 163 trace values in preciptotal_stn1\n",
      "-----\n",
      "stnpressure_stn1\n",
      "There are 2 missing values in stnpressure_stn1\n",
      "-----\n",
      "sealevel_stn1\n",
      "There are 5 missing values in sealevel_stn1\n",
      "-----\n",
      "avgspeed_stn1\n",
      "avgspeed_stn1 have no missing values or trace values and will be converted to numeric\n",
      "-----\n",
      "tavg_stn2\n",
      "There are 11 missing values in tavg_stn2\n",
      "-----\n",
      "wetbulb_stn2\n",
      "There are 1 missing values in wetbulb_stn2\n",
      "-----\n",
      "heat_stn2\n",
      "There are 11 missing values in heat_stn2\n",
      "-----\n",
      "cool_stn2\n",
      "There are 11 missing values in cool_stn2\n",
      "-----\n",
      "preciptotal_stn2\n",
      "There are 2 missing values in preciptotal_stn2\n",
      "There are 155 trace values in preciptotal_stn2\n",
      "-----\n",
      "stnpressure_stn2\n",
      "There are 2 missing values in stnpressure_stn2\n",
      "-----\n",
      "sealevel_stn2\n",
      "There are 4 missing values in sealevel_stn2\n",
      "-----\n",
      "avgspeed_stn2\n",
      "There are 3 missing values in avgspeed_stn2\n",
      "-----\n"
     ]
    }
   ],
   "source": [
    "col_to_convert = []\n",
    "col_with_trace = []\n",
    "\n",
    "\n",
    "for x in weather.select_dtypes(exclude='number').columns:\n",
    "    if x == 'date':\n",
    "        continue\n",
    "\n",
    "    weather[x] = weather[x].str.strip()\n",
    "    print(x)\n",
    "\n",
    "    if len(weather[x].unique()) == 1:\n",
    "        weather.drop(x, axis=1)\n",
    "        print(f'{x} dropped')\n",
    "        print('-----')\n",
    "        continue\n",
    "\n",
    "    if 'M' in weather[x].unique():\n",
    "        print(f\"There are {len(weather[weather[x] == 'M'])} missing values in {x}\")\n",
    "\n",
    "    if 'T' in weather[x].unique():\n",
    "        print(f\"There are {len(weather[weather[x] == 'T'])} trace values in {x}\")\n",
    "        col_with_trace.append(x)\n",
    "\n",
    "    if 'M' not in weather[x].unique() and 'T' not in weather[x].unique():\n",
    "        col_to_convert.append(x)\n",
    "        print(f\"{x} have no missing values or trace values and will be converted to numeric\")\n",
    "\n",
    "    print('-----')"
   ]
  },
  {
   "cell_type": "code",
   "execution_count": 33,
   "metadata": {},
   "outputs": [],
   "source": [
    "for col in col_to_convert:\n",
    "    weather[col] = pd.to_numeric(weather[col], errors='coerce')"
   ]
  },
  {
   "cell_type": "code",
   "execution_count": 34,
   "metadata": {},
   "outputs": [
    {
     "data": {
      "text/html": [
       "<div>\n",
       "<style scoped>\n",
       "    .dataframe tbody tr th:only-of-type {\n",
       "        vertical-align: middle;\n",
       "    }\n",
       "\n",
       "    .dataframe tbody tr th {\n",
       "        vertical-align: top;\n",
       "    }\n",
       "\n",
       "    .dataframe thead th {\n",
       "        text-align: right;\n",
       "    }\n",
       "</style>\n",
       "<table border=\"1\" class=\"dataframe\">\n",
       "  <thead>\n",
       "    <tr style=\"text-align: right;\">\n",
       "      <th></th>\n",
       "      <th>wetbulb_stn1</th>\n",
       "      <th>wetbulb_stn2</th>\n",
       "    </tr>\n",
       "  </thead>\n",
       "  <tbody>\n",
       "    <tr>\n",
       "      <th>424</th>\n",
       "      <td>M</td>\n",
       "      <td>67</td>\n",
       "    </tr>\n",
       "    <tr>\n",
       "      <th>1205</th>\n",
       "      <td>M</td>\n",
       "      <td>63</td>\n",
       "    </tr>\n",
       "    <tr>\n",
       "      <th>1206</th>\n",
       "      <td>M</td>\n",
       "      <td>64</td>\n",
       "    </tr>\n",
       "  </tbody>\n",
       "</table>\n",
       "</div>"
      ],
      "text/plain": [
       "     wetbulb_stn1 wetbulb_stn2\n",
       "424             M           67\n",
       "1205            M           63\n",
       "1206            M           64"
      ]
     },
     "execution_count": 34,
     "metadata": {},
     "output_type": "execute_result"
    }
   ],
   "source": [
    "#handling missing values\n",
    "\n",
    "# wetbulb values are almost the same values between each station for each day\n",
    "weather[weather['wetbulb_stn1'] == 'M'][['wetbulb_stn1','wetbulb_stn2']]"
   ]
  },
  {
   "cell_type": "code",
   "execution_count": 35,
   "metadata": {},
   "outputs": [],
   "source": [
    "mask = weather['wetbulb_stn1'] == 'M'\n",
    "weather.loc[mask, 'wetbulb_stn1'] = weather.loc[mask, 'wetbulb_stn2']"
   ]
  },
  {
   "cell_type": "code",
   "execution_count": 36,
   "metadata": {},
   "outputs": [
    {
     "data": {
      "text/html": [
       "<div>\n",
       "<style scoped>\n",
       "    .dataframe tbody tr th:only-of-type {\n",
       "        vertical-align: middle;\n",
       "    }\n",
       "\n",
       "    .dataframe tbody tr th {\n",
       "        vertical-align: top;\n",
       "    }\n",
       "\n",
       "    .dataframe thead th {\n",
       "        text-align: right;\n",
       "    }\n",
       "</style>\n",
       "<table border=\"1\" class=\"dataframe\">\n",
       "  <thead>\n",
       "    <tr style=\"text-align: right;\">\n",
       "      <th></th>\n",
       "      <th>wetbulb_stn1</th>\n",
       "      <th>wetbulb_stn2</th>\n",
       "    </tr>\n",
       "  </thead>\n",
       "  <tbody>\n",
       "    <tr>\n",
       "      <th>1207</th>\n",
       "      <td>68</td>\n",
       "      <td>M</td>\n",
       "    </tr>\n",
       "  </tbody>\n",
       "</table>\n",
       "</div>"
      ],
      "text/plain": [
       "     wetbulb_stn1 wetbulb_stn2\n",
       "1207           68            M"
      ]
     },
     "execution_count": 36,
     "metadata": {},
     "output_type": "execute_result"
    }
   ],
   "source": [
    "weather[weather['wetbulb_stn2'] == 'M'][['wetbulb_stn1','wetbulb_stn2']]"
   ]
  },
  {
   "cell_type": "code",
   "execution_count": 37,
   "metadata": {},
   "outputs": [],
   "source": [
    "weather.loc[1207, 'wetbulb_stn2'] = weather.loc[1207, 'wetbulb_stn1']"
   ]
  },
  {
   "cell_type": "code",
   "execution_count": 38,
   "metadata": {},
   "outputs": [
    {
     "data": {
      "text/html": [
       "<div>\n",
       "<style scoped>\n",
       "    .dataframe tbody tr th:only-of-type {\n",
       "        vertical-align: middle;\n",
       "    }\n",
       "\n",
       "    .dataframe tbody tr th {\n",
       "        vertical-align: top;\n",
       "    }\n",
       "\n",
       "    .dataframe thead th {\n",
       "        text-align: right;\n",
       "    }\n",
       "</style>\n",
       "<table border=\"1\" class=\"dataframe\">\n",
       "  <thead>\n",
       "    <tr style=\"text-align: right;\">\n",
       "      <th></th>\n",
       "      <th>stnpressure_stn1</th>\n",
       "      <th>stnpressure_stn2</th>\n",
       "    </tr>\n",
       "  </thead>\n",
       "  <tbody>\n",
       "    <tr>\n",
       "      <th>424</th>\n",
       "      <td>M</td>\n",
       "      <td>29.20</td>\n",
       "    </tr>\n",
       "    <tr>\n",
       "      <th>1205</th>\n",
       "      <td>M</td>\n",
       "      <td>M</td>\n",
       "    </tr>\n",
       "  </tbody>\n",
       "</table>\n",
       "</div>"
      ],
      "text/plain": [
       "     stnpressure_stn1 stnpressure_stn2\n",
       "424                 M            29.20\n",
       "1205                M                M"
      ]
     },
     "execution_count": 38,
     "metadata": {},
     "output_type": "execute_result"
    }
   ],
   "source": [
    "weather[weather['stnpressure_stn1'] == 'M'][['stnpressure_stn1', 'stnpressure_stn2']]"
   ]
  },
  {
   "cell_type": "code",
   "execution_count": 39,
   "metadata": {},
   "outputs": [
    {
     "data": {
      "text/html": [
       "<div>\n",
       "<style scoped>\n",
       "    .dataframe tbody tr th:only-of-type {\n",
       "        vertical-align: middle;\n",
       "    }\n",
       "\n",
       "    .dataframe tbody tr th {\n",
       "        vertical-align: top;\n",
       "    }\n",
       "\n",
       "    .dataframe thead th {\n",
       "        text-align: right;\n",
       "    }\n",
       "</style>\n",
       "<table border=\"1\" class=\"dataframe\">\n",
       "  <thead>\n",
       "    <tr style=\"text-align: right;\">\n",
       "      <th></th>\n",
       "      <th>stnpressure_stn1</th>\n",
       "      <th>stnpressure_stn2</th>\n",
       "    </tr>\n",
       "  </thead>\n",
       "  <tbody>\n",
       "    <tr>\n",
       "      <th>43</th>\n",
       "      <td>29.36</td>\n",
       "      <td>M</td>\n",
       "    </tr>\n",
       "    <tr>\n",
       "      <th>1205</th>\n",
       "      <td>M</td>\n",
       "      <td>M</td>\n",
       "    </tr>\n",
       "  </tbody>\n",
       "</table>\n",
       "</div>"
      ],
      "text/plain": [
       "     stnpressure_stn1 stnpressure_stn2\n",
       "43              29.36                M\n",
       "1205                M                M"
      ]
     },
     "execution_count": 39,
     "metadata": {},
     "output_type": "execute_result"
    }
   ],
   "source": [
    "weather[weather['stnpressure_stn2'] == 'M'][['stnpressure_stn1', 'stnpressure_stn2']]"
   ]
  },
  {
   "cell_type": "code",
   "execution_count": 40,
   "metadata": {},
   "outputs": [
    {
     "data": {
      "text/html": [
       "<div>\n",
       "<style scoped>\n",
       "    .dataframe tbody tr th:only-of-type {\n",
       "        vertical-align: middle;\n",
       "    }\n",
       "\n",
       "    .dataframe tbody tr th {\n",
       "        vertical-align: top;\n",
       "    }\n",
       "\n",
       "    .dataframe thead th {\n",
       "        text-align: right;\n",
       "    }\n",
       "</style>\n",
       "<table border=\"1\" class=\"dataframe\">\n",
       "  <thead>\n",
       "    <tr style=\"text-align: right;\">\n",
       "      <th></th>\n",
       "      <th>stnpressure_stn1</th>\n",
       "      <th>stnpressure_stn2</th>\n",
       "    </tr>\n",
       "  </thead>\n",
       "  <tbody>\n",
       "    <tr>\n",
       "      <th>40</th>\n",
       "      <td>29.34</td>\n",
       "      <td>29.39</td>\n",
       "    </tr>\n",
       "    <tr>\n",
       "      <th>41</th>\n",
       "      <td>29.41</td>\n",
       "      <td>29.47</td>\n",
       "    </tr>\n",
       "    <tr>\n",
       "      <th>42</th>\n",
       "      <td>29.44</td>\n",
       "      <td>29.49</td>\n",
       "    </tr>\n",
       "    <tr>\n",
       "      <th>43</th>\n",
       "      <td>29.36</td>\n",
       "      <td>M</td>\n",
       "    </tr>\n",
       "    <tr>\n",
       "      <th>44</th>\n",
       "      <td>29.30</td>\n",
       "      <td>29.36</td>\n",
       "    </tr>\n",
       "    <tr>\n",
       "      <th>45</th>\n",
       "      <td>29.28</td>\n",
       "      <td>29.34</td>\n",
       "    </tr>\n",
       "    <tr>\n",
       "      <th>46</th>\n",
       "      <td>29.26</td>\n",
       "      <td>29.33</td>\n",
       "    </tr>\n",
       "    <tr>\n",
       "      <th>47</th>\n",
       "      <td>29.23</td>\n",
       "      <td>29.28</td>\n",
       "    </tr>\n",
       "    <tr>\n",
       "      <th>48</th>\n",
       "      <td>29.12</td>\n",
       "      <td>29.19</td>\n",
       "    </tr>\n",
       "    <tr>\n",
       "      <th>49</th>\n",
       "      <td>29.26</td>\n",
       "      <td>29.31</td>\n",
       "    </tr>\n",
       "    <tr>\n",
       "      <th>50</th>\n",
       "      <td>29.39</td>\n",
       "      <td>29.46</td>\n",
       "    </tr>\n",
       "  </tbody>\n",
       "</table>\n",
       "</div>"
      ],
      "text/plain": [
       "   stnpressure_stn1 stnpressure_stn2\n",
       "40            29.34            29.39\n",
       "41            29.41            29.47\n",
       "42            29.44            29.49\n",
       "43            29.36                M\n",
       "44            29.30            29.36\n",
       "45            29.28            29.34\n",
       "46            29.26            29.33\n",
       "47            29.23            29.28\n",
       "48            29.12            29.19\n",
       "49            29.26            29.31\n",
       "50            29.39            29.46"
      ]
     },
     "execution_count": 40,
     "metadata": {},
     "output_type": "execute_result"
    }
   ],
   "source": [
    "weather.loc[40:50,['stnpressure_stn1', 'stnpressure_stn2']] #stnpressure values are almost the same values between each station for each day"
   ]
  },
  {
   "cell_type": "code",
   "execution_count": 41,
   "metadata": {},
   "outputs": [],
   "source": [
    "#replacing missing values to corresponding stnpressure value or 10 days average\n",
    "weather.loc[43, 'stnpressure_stn2'] = weather.loc[43, 'stnpressure_stn1']\n",
    "weather.loc[424, 'stnpressure_stn1'] = weather.loc[424, 'stnpressure_stn2']\n",
    "weather.loc[1205, 'stnpressure_stn1'] = round(weather.loc[1200:1210].drop(1205)['stnpressure_stn1'].astype('float64').mean(), 2) #10days average as both stn had missing value\n",
    "weather.loc[1205, 'stnpressure_stn2'] = round(weather.loc[1200:1210].drop(1205)['stnpressure_stn2'].astype('float64').mean(), 2)"
   ]
  },
  {
   "cell_type": "code",
   "execution_count": 42,
   "metadata": {},
   "outputs": [
    {
     "data": {
      "text/html": [
       "<div>\n",
       "<style scoped>\n",
       "    .dataframe tbody tr th:only-of-type {\n",
       "        vertical-align: middle;\n",
       "    }\n",
       "\n",
       "    .dataframe tbody tr th {\n",
       "        vertical-align: top;\n",
       "    }\n",
       "\n",
       "    .dataframe thead th {\n",
       "        text-align: right;\n",
       "    }\n",
       "</style>\n",
       "<table border=\"1\" class=\"dataframe\">\n",
       "  <thead>\n",
       "    <tr style=\"text-align: right;\">\n",
       "      <th></th>\n",
       "      <th>sealevel_stn1</th>\n",
       "      <th>sealevel_stn2</th>\n",
       "    </tr>\n",
       "  </thead>\n",
       "  <tbody>\n",
       "    <tr>\n",
       "      <th>416</th>\n",
       "      <td>M</td>\n",
       "      <td>29.79</td>\n",
       "    </tr>\n",
       "    <tr>\n",
       "      <th>497</th>\n",
       "      <td>M</td>\n",
       "      <td>30.09</td>\n",
       "    </tr>\n",
       "    <tr>\n",
       "      <th>866</th>\n",
       "      <td>M</td>\n",
       "      <td>30.03</td>\n",
       "    </tr>\n",
       "    <tr>\n",
       "      <th>878</th>\n",
       "      <td>M</td>\n",
       "      <td>29.99</td>\n",
       "    </tr>\n",
       "    <tr>\n",
       "      <th>1045</th>\n",
       "      <td>M</td>\n",
       "      <td>29.87</td>\n",
       "    </tr>\n",
       "  </tbody>\n",
       "</table>\n",
       "</div>"
      ],
      "text/plain": [
       "     sealevel_stn1 sealevel_stn2\n",
       "416              M         29.79\n",
       "497              M         30.09\n",
       "866              M         30.03\n",
       "878              M         29.99\n",
       "1045             M         29.87"
      ]
     },
     "execution_count": 42,
     "metadata": {},
     "output_type": "execute_result"
    }
   ],
   "source": [
    "weather[weather['sealevel_stn1'] == 'M'][['sealevel_stn1', 'sealevel_stn2']]"
   ]
  },
  {
   "cell_type": "code",
   "execution_count": 43,
   "metadata": {},
   "outputs": [
    {
     "data": {
      "text/html": [
       "<div>\n",
       "<style scoped>\n",
       "    .dataframe tbody tr th:only-of-type {\n",
       "        vertical-align: middle;\n",
       "    }\n",
       "\n",
       "    .dataframe tbody tr th {\n",
       "        vertical-align: top;\n",
       "    }\n",
       "\n",
       "    .dataframe thead th {\n",
       "        text-align: right;\n",
       "    }\n",
       "</style>\n",
       "<table border=\"1\" class=\"dataframe\">\n",
       "  <thead>\n",
       "    <tr style=\"text-align: right;\">\n",
       "      <th></th>\n",
       "      <th>sealevel_stn1</th>\n",
       "      <th>sealevel_stn2</th>\n",
       "    </tr>\n",
       "  </thead>\n",
       "  <tbody>\n",
       "    <tr>\n",
       "      <th>43</th>\n",
       "      <td>30.09</td>\n",
       "      <td>M</td>\n",
       "    </tr>\n",
       "    <tr>\n",
       "      <th>872</th>\n",
       "      <td>30.09</td>\n",
       "      <td>M</td>\n",
       "    </tr>\n",
       "    <tr>\n",
       "      <th>1033</th>\n",
       "      <td>30.07</td>\n",
       "      <td>M</td>\n",
       "    </tr>\n",
       "    <tr>\n",
       "      <th>1371</th>\n",
       "      <td>30.12</td>\n",
       "      <td>M</td>\n",
       "    </tr>\n",
       "  </tbody>\n",
       "</table>\n",
       "</div>"
      ],
      "text/plain": [
       "     sealevel_stn1 sealevel_stn2\n",
       "43           30.09             M\n",
       "872          30.09             M\n",
       "1033         30.07             M\n",
       "1371         30.12             M"
      ]
     },
     "execution_count": 43,
     "metadata": {},
     "output_type": "execute_result"
    }
   ],
   "source": [
    "weather[weather['sealevel_stn2'] == 'M'][['sealevel_stn1', 'sealevel_stn2']]"
   ]
  },
  {
   "cell_type": "code",
   "execution_count": 44,
   "metadata": {},
   "outputs": [
    {
     "data": {
      "text/html": [
       "<div>\n",
       "<style scoped>\n",
       "    .dataframe tbody tr th:only-of-type {\n",
       "        vertical-align: middle;\n",
       "    }\n",
       "\n",
       "    .dataframe tbody tr th {\n",
       "        vertical-align: top;\n",
       "    }\n",
       "\n",
       "    .dataframe thead th {\n",
       "        text-align: right;\n",
       "    }\n",
       "</style>\n",
       "<table border=\"1\" class=\"dataframe\">\n",
       "  <thead>\n",
       "    <tr style=\"text-align: right;\">\n",
       "      <th></th>\n",
       "      <th>sealevel_stn1</th>\n",
       "      <th>sealevel_stn2</th>\n",
       "    </tr>\n",
       "  </thead>\n",
       "  <tbody>\n",
       "    <tr>\n",
       "      <th>410</th>\n",
       "      <td>29.95</td>\n",
       "      <td>29.95</td>\n",
       "    </tr>\n",
       "    <tr>\n",
       "      <th>411</th>\n",
       "      <td>30.00</td>\n",
       "      <td>29.99</td>\n",
       "    </tr>\n",
       "    <tr>\n",
       "      <th>412</th>\n",
       "      <td>30.01</td>\n",
       "      <td>30.00</td>\n",
       "    </tr>\n",
       "    <tr>\n",
       "      <th>413</th>\n",
       "      <td>30.01</td>\n",
       "      <td>29.99</td>\n",
       "    </tr>\n",
       "    <tr>\n",
       "      <th>414</th>\n",
       "      <td>29.89</td>\n",
       "      <td>29.87</td>\n",
       "    </tr>\n",
       "    <tr>\n",
       "      <th>415</th>\n",
       "      <td>29.88</td>\n",
       "      <td>29.87</td>\n",
       "    </tr>\n",
       "    <tr>\n",
       "      <th>416</th>\n",
       "      <td>M</td>\n",
       "      <td>29.79</td>\n",
       "    </tr>\n",
       "    <tr>\n",
       "      <th>417</th>\n",
       "      <td>29.70</td>\n",
       "      <td>29.68</td>\n",
       "    </tr>\n",
       "    <tr>\n",
       "      <th>418</th>\n",
       "      <td>29.76</td>\n",
       "      <td>29.74</td>\n",
       "    </tr>\n",
       "    <tr>\n",
       "      <th>419</th>\n",
       "      <td>29.82</td>\n",
       "      <td>29.80</td>\n",
       "    </tr>\n",
       "    <tr>\n",
       "      <th>420</th>\n",
       "      <td>29.79</td>\n",
       "      <td>29.77</td>\n",
       "    </tr>\n",
       "  </tbody>\n",
       "</table>\n",
       "</div>"
      ],
      "text/plain": [
       "    sealevel_stn1 sealevel_stn2\n",
       "410         29.95         29.95\n",
       "411         30.00         29.99\n",
       "412         30.01         30.00\n",
       "413         30.01         29.99\n",
       "414         29.89         29.87\n",
       "415         29.88         29.87\n",
       "416             M         29.79\n",
       "417         29.70         29.68\n",
       "418         29.76         29.74\n",
       "419         29.82         29.80\n",
       "420         29.79         29.77"
      ]
     },
     "execution_count": 44,
     "metadata": {},
     "output_type": "execute_result"
    }
   ],
   "source": [
    "weather.loc[410:420, ['sealevel_stn1', 'sealevel_stn2']] # sealevels are almost the same values between each station for each day"
   ]
  },
  {
   "cell_type": "code",
   "execution_count": 45,
   "metadata": {},
   "outputs": [],
   "source": [
    "#missing values in stn1 and stn2 did not overlap so we can use mask method\n",
    "mask = weather['sealevel_stn1'] == 'M'\n",
    "weather.loc[mask, 'sealevel_stn1'] = weather.loc[mask, 'sealevel_stn2']\n",
    "mask = weather['sealevel_stn2'] == 'M'\n",
    "weather.loc[mask, 'sealevel_stn2'] = weather.loc[mask, 'sealevel_stn1']"
   ]
  },
  {
   "cell_type": "code",
   "execution_count": 46,
   "metadata": {},
   "outputs": [
    {
     "data": {
      "text/html": [
       "<div>\n",
       "<style scoped>\n",
       "    .dataframe tbody tr th:only-of-type {\n",
       "        vertical-align: middle;\n",
       "    }\n",
       "\n",
       "    .dataframe tbody tr th {\n",
       "        vertical-align: top;\n",
       "    }\n",
       "\n",
       "    .dataframe thead th {\n",
       "        text-align: right;\n",
       "    }\n",
       "</style>\n",
       "<table border=\"1\" class=\"dataframe\">\n",
       "  <thead>\n",
       "    <tr style=\"text-align: right;\">\n",
       "      <th></th>\n",
       "      <th>preciptotal_stn1</th>\n",
       "      <th>preciptotal_stn2</th>\n",
       "    </tr>\n",
       "  </thead>\n",
       "  <tbody>\n",
       "    <tr>\n",
       "      <th>58</th>\n",
       "      <td>0.00</td>\n",
       "      <td>M</td>\n",
       "    </tr>\n",
       "    <tr>\n",
       "      <th>59</th>\n",
       "      <td>0.00</td>\n",
       "      <td>M</td>\n",
       "    </tr>\n",
       "  </tbody>\n",
       "</table>\n",
       "</div>"
      ],
      "text/plain": [
       "   preciptotal_stn1 preciptotal_stn2\n",
       "58             0.00                M\n",
       "59             0.00                M"
      ]
     },
     "execution_count": 46,
     "metadata": {},
     "output_type": "execute_result"
    }
   ],
   "source": [
    "weather[weather['preciptotal_stn2']=='M'][['preciptotal_stn1', 'preciptotal_stn2']]"
   ]
  },
  {
   "cell_type": "code",
   "execution_count": 47,
   "metadata": {},
   "outputs": [
    {
     "data": {
      "text/plain": [
       "715"
      ]
     },
     "execution_count": 47,
     "metadata": {},
     "output_type": "execute_result"
    }
   ],
   "source": [
    "(weather[weather['preciptotal_stn1']=='0.00']['preciptotal_stn2'] == '0.00').sum()"
   ]
  },
  {
   "cell_type": "code",
   "execution_count": 48,
   "metadata": {},
   "outputs": [
    {
     "data": {
      "text/plain": [
       "79"
      ]
     },
     "execution_count": 48,
     "metadata": {},
     "output_type": "execute_result"
    }
   ],
   "source": [
    "(weather[weather['preciptotal_stn1']=='0.00']['preciptotal_stn2'] != '0.00').sum()"
   ]
  },
  {
   "cell_type": "code",
   "execution_count": 49,
   "metadata": {},
   "outputs": [],
   "source": [
    "#about 90% of weather['preciptotal_stn1']=='0.00' has weather['preciptotal_stn2'] == '0.00' so i shall replace missing value with 0.00\n",
    "weather.loc[58:59, 'preciptotal_stn2'] = '0.00'"
   ]
  },
  {
   "cell_type": "code",
   "execution_count": 50,
   "metadata": {},
   "outputs": [
    {
     "data": {
      "text/html": [
       "<div>\n",
       "<style scoped>\n",
       "    .dataframe tbody tr th:only-of-type {\n",
       "        vertical-align: middle;\n",
       "    }\n",
       "\n",
       "    .dataframe tbody tr th {\n",
       "        vertical-align: top;\n",
       "    }\n",
       "\n",
       "    .dataframe thead th {\n",
       "        text-align: right;\n",
       "    }\n",
       "</style>\n",
       "<table border=\"1\" class=\"dataframe\">\n",
       "  <thead>\n",
       "    <tr style=\"text-align: right;\">\n",
       "      <th></th>\n",
       "      <th>tavg_stn2</th>\n",
       "      <th>tmin_stn2</th>\n",
       "      <th>tmax_stn2</th>\n",
       "    </tr>\n",
       "  </thead>\n",
       "  <tbody>\n",
       "    <tr>\n",
       "      <th>3</th>\n",
       "      <td>M</td>\n",
       "      <td>51</td>\n",
       "      <td>78</td>\n",
       "    </tr>\n",
       "    <tr>\n",
       "      <th>252</th>\n",
       "      <td>M</td>\n",
       "      <td>46</td>\n",
       "      <td>86</td>\n",
       "    </tr>\n",
       "    <tr>\n",
       "      <th>337</th>\n",
       "      <td>M</td>\n",
       "      <td>46</td>\n",
       "      <td>62</td>\n",
       "    </tr>\n",
       "    <tr>\n",
       "      <th>818</th>\n",
       "      <td>M</td>\n",
       "      <td>71</td>\n",
       "      <td>100</td>\n",
       "    </tr>\n",
       "    <tr>\n",
       "      <th>1033</th>\n",
       "      <td>M</td>\n",
       "      <td>72</td>\n",
       "      <td>84</td>\n",
       "    </tr>\n",
       "    <tr>\n",
       "      <th>1105</th>\n",
       "      <td>M</td>\n",
       "      <td>42</td>\n",
       "      <td>71</td>\n",
       "    </tr>\n",
       "    <tr>\n",
       "      <th>1250</th>\n",
       "      <td>M</td>\n",
       "      <td>52</td>\n",
       "      <td>91</td>\n",
       "    </tr>\n",
       "    <tr>\n",
       "      <th>1255</th>\n",
       "      <td>M</td>\n",
       "      <td>53</td>\n",
       "      <td>84</td>\n",
       "    </tr>\n",
       "    <tr>\n",
       "      <th>1262</th>\n",
       "      <td>M</td>\n",
       "      <td>48</td>\n",
       "      <td>76</td>\n",
       "    </tr>\n",
       "    <tr>\n",
       "      <th>1289</th>\n",
       "      <td>M</td>\n",
       "      <td>47</td>\n",
       "      <td>80</td>\n",
       "    </tr>\n",
       "    <tr>\n",
       "      <th>1405</th>\n",
       "      <td>M</td>\n",
       "      <td>49</td>\n",
       "      <td>86</td>\n",
       "    </tr>\n",
       "  </tbody>\n",
       "</table>\n",
       "</div>"
      ],
      "text/plain": [
       "     tavg_stn2  tmin_stn2  tmax_stn2\n",
       "3            M         51         78\n",
       "252          M         46         86\n",
       "337          M         46         62\n",
       "818          M         71        100\n",
       "1033         M         72         84\n",
       "1105         M         42         71\n",
       "1250         M         52         91\n",
       "1255         M         53         84\n",
       "1262         M         48         76\n",
       "1289         M         47         80\n",
       "1405         M         49         86"
      ]
     },
     "execution_count": 50,
     "metadata": {},
     "output_type": "execute_result"
    }
   ],
   "source": [
    "weather[weather['tavg_stn2'] == 'M'][['tavg_stn2', 'tmin_stn2', 'tmax_stn2']]"
   ]
  },
  {
   "cell_type": "code",
   "execution_count": 51,
   "metadata": {},
   "outputs": [],
   "source": [
    "# Use (tmin + tmax) /2 to fill the null values of tavg\n",
    "import math\n",
    "\n",
    "weather['tavg_stn2'] = weather.apply(lambda x: math.ceil((float(x['tmin_stn2']) + float(x['tmax_stn2'])) / 2) if x['tavg_stn2'] == 'M' else x['tavg_stn2'], axis=1)"
   ]
  },
  {
   "cell_type": "code",
   "execution_count": 52,
   "metadata": {},
   "outputs": [
    {
     "data": {
      "text/html": [
       "<div>\n",
       "<style scoped>\n",
       "    .dataframe tbody tr th:only-of-type {\n",
       "        vertical-align: middle;\n",
       "    }\n",
       "\n",
       "    .dataframe tbody tr th {\n",
       "        vertical-align: top;\n",
       "    }\n",
       "\n",
       "    .dataframe thead th {\n",
       "        text-align: right;\n",
       "    }\n",
       "</style>\n",
       "<table border=\"1\" class=\"dataframe\">\n",
       "  <thead>\n",
       "    <tr style=\"text-align: right;\">\n",
       "      <th></th>\n",
       "      <th>heat_stn1</th>\n",
       "      <th>heat_stn2</th>\n",
       "      <th>tavg_stn1</th>\n",
       "      <th>tavg_stn2</th>\n",
       "      <th>cool_stn1</th>\n",
       "      <th>cool_stn2</th>\n",
       "    </tr>\n",
       "  </thead>\n",
       "  <tbody>\n",
       "    <tr>\n",
       "      <th>3</th>\n",
       "      <td>7</td>\n",
       "      <td>M</td>\n",
       "      <td>58</td>\n",
       "      <td>65</td>\n",
       "      <td>0</td>\n",
       "      <td>M</td>\n",
       "    </tr>\n",
       "    <tr>\n",
       "      <th>252</th>\n",
       "      <td>0</td>\n",
       "      <td>M</td>\n",
       "      <td>78</td>\n",
       "      <td>66</td>\n",
       "      <td>13</td>\n",
       "      <td>M</td>\n",
       "    </tr>\n",
       "    <tr>\n",
       "      <th>337</th>\n",
       "      <td>11</td>\n",
       "      <td>M</td>\n",
       "      <td>54</td>\n",
       "      <td>54</td>\n",
       "      <td>0</td>\n",
       "      <td>M</td>\n",
       "    </tr>\n",
       "    <tr>\n",
       "      <th>818</th>\n",
       "      <td>0</td>\n",
       "      <td>M</td>\n",
       "      <td>79</td>\n",
       "      <td>86</td>\n",
       "      <td>14</td>\n",
       "      <td>M</td>\n",
       "    </tr>\n",
       "    <tr>\n",
       "      <th>1033</th>\n",
       "      <td>0</td>\n",
       "      <td>M</td>\n",
       "      <td>70</td>\n",
       "      <td>78</td>\n",
       "      <td>5</td>\n",
       "      <td>M</td>\n",
       "    </tr>\n",
       "    <tr>\n",
       "      <th>1105</th>\n",
       "      <td>16</td>\n",
       "      <td>M</td>\n",
       "      <td>49</td>\n",
       "      <td>57</td>\n",
       "      <td>0</td>\n",
       "      <td>M</td>\n",
       "    </tr>\n",
       "    <tr>\n",
       "      <th>1250</th>\n",
       "      <td>5</td>\n",
       "      <td>M</td>\n",
       "      <td>60</td>\n",
       "      <td>72</td>\n",
       "      <td>0</td>\n",
       "      <td>M</td>\n",
       "    </tr>\n",
       "    <tr>\n",
       "      <th>1255</th>\n",
       "      <td>5</td>\n",
       "      <td>M</td>\n",
       "      <td>60</td>\n",
       "      <td>69</td>\n",
       "      <td>0</td>\n",
       "      <td>M</td>\n",
       "    </tr>\n",
       "    <tr>\n",
       "      <th>1262</th>\n",
       "      <td>10</td>\n",
       "      <td>M</td>\n",
       "      <td>55</td>\n",
       "      <td>62</td>\n",
       "      <td>0</td>\n",
       "      <td>M</td>\n",
       "    </tr>\n",
       "    <tr>\n",
       "      <th>1289</th>\n",
       "      <td>15</td>\n",
       "      <td>M</td>\n",
       "      <td>50</td>\n",
       "      <td>64</td>\n",
       "      <td>0</td>\n",
       "      <td>M</td>\n",
       "    </tr>\n",
       "    <tr>\n",
       "      <th>1405</th>\n",
       "      <td>0</td>\n",
       "      <td>M</td>\n",
       "      <td>78</td>\n",
       "      <td>68</td>\n",
       "      <td>13</td>\n",
       "      <td>M</td>\n",
       "    </tr>\n",
       "  </tbody>\n",
       "</table>\n",
       "</div>"
      ],
      "text/plain": [
       "      heat_stn1 heat_stn2  tavg_stn1 tavg_stn2  cool_stn1 cool_stn2\n",
       "3             7         M         58        65          0         M\n",
       "252           0         M         78        66         13         M\n",
       "337          11         M         54        54          0         M\n",
       "818           0         M         79        86         14         M\n",
       "1033          0         M         70        78          5         M\n",
       "1105         16         M         49        57          0         M\n",
       "1250          5         M         60        72          0         M\n",
       "1255          5         M         60        69          0         M\n",
       "1262         10         M         55        62          0         M\n",
       "1289         15         M         50        64          0         M\n",
       "1405          0         M         78        68         13         M"
      ]
     },
     "execution_count": 52,
     "metadata": {},
     "output_type": "execute_result"
    }
   ],
   "source": [
    "weather[weather['heat_stn2']=='M'][['heat_stn1', 'heat_stn2', 'tavg_stn1', 'tavg_stn2', 'cool_stn1', 'cool_stn2']]"
   ]
  },
  {
   "cell_type": "code",
   "execution_count": 53,
   "metadata": {},
   "outputs": [
    {
     "data": {
      "text/html": [
       "<div>\n",
       "<style scoped>\n",
       "    .dataframe tbody tr th:only-of-type {\n",
       "        vertical-align: middle;\n",
       "    }\n",
       "\n",
       "    .dataframe tbody tr th {\n",
       "        vertical-align: top;\n",
       "    }\n",
       "\n",
       "    .dataframe thead th {\n",
       "        text-align: right;\n",
       "    }\n",
       "</style>\n",
       "<table border=\"1\" class=\"dataframe\">\n",
       "  <thead>\n",
       "    <tr style=\"text-align: right;\">\n",
       "      <th></th>\n",
       "      <th>heat_stn1</th>\n",
       "      <th>heat_stn2</th>\n",
       "      <th>cool_stn1</th>\n",
       "      <th>cool_stn2</th>\n",
       "    </tr>\n",
       "  </thead>\n",
       "  <tbody>\n",
       "    <tr>\n",
       "      <th>1100</th>\n",
       "      <td>21</td>\n",
       "      <td>20</td>\n",
       "      <td>0</td>\n",
       "      <td>0</td>\n",
       "    </tr>\n",
       "    <tr>\n",
       "      <th>1101</th>\n",
       "      <td>21</td>\n",
       "      <td>20</td>\n",
       "      <td>0</td>\n",
       "      <td>0</td>\n",
       "    </tr>\n",
       "    <tr>\n",
       "      <th>1102</th>\n",
       "      <td>21</td>\n",
       "      <td>21</td>\n",
       "      <td>0</td>\n",
       "      <td>0</td>\n",
       "    </tr>\n",
       "    <tr>\n",
       "      <th>1103</th>\n",
       "      <td>23</td>\n",
       "      <td>23</td>\n",
       "      <td>0</td>\n",
       "      <td>0</td>\n",
       "    </tr>\n",
       "    <tr>\n",
       "      <th>1104</th>\n",
       "      <td>0</td>\n",
       "      <td>0</td>\n",
       "      <td>5</td>\n",
       "      <td>9</td>\n",
       "    </tr>\n",
       "    <tr>\n",
       "      <th>1105</th>\n",
       "      <td>16</td>\n",
       "      <td>M</td>\n",
       "      <td>0</td>\n",
       "      <td>M</td>\n",
       "    </tr>\n",
       "    <tr>\n",
       "      <th>1106</th>\n",
       "      <td>21</td>\n",
       "      <td>20</td>\n",
       "      <td>0</td>\n",
       "      <td>0</td>\n",
       "    </tr>\n",
       "    <tr>\n",
       "      <th>1107</th>\n",
       "      <td>5</td>\n",
       "      <td>4</td>\n",
       "      <td>0</td>\n",
       "      <td>0</td>\n",
       "    </tr>\n",
       "    <tr>\n",
       "      <th>1108</th>\n",
       "      <td>6</td>\n",
       "      <td>5</td>\n",
       "      <td>0</td>\n",
       "      <td>0</td>\n",
       "    </tr>\n",
       "    <tr>\n",
       "      <th>1109</th>\n",
       "      <td>4</td>\n",
       "      <td>4</td>\n",
       "      <td>0</td>\n",
       "      <td>0</td>\n",
       "    </tr>\n",
       "    <tr>\n",
       "      <th>1110</th>\n",
       "      <td>3</td>\n",
       "      <td>2</td>\n",
       "      <td>0</td>\n",
       "      <td>0</td>\n",
       "    </tr>\n",
       "  </tbody>\n",
       "</table>\n",
       "</div>"
      ],
      "text/plain": [
       "      heat_stn1 heat_stn2  cool_stn1 cool_stn2\n",
       "1100         21        20          0         0\n",
       "1101         21        20          0         0\n",
       "1102         21        21          0         0\n",
       "1103         23        23          0         0\n",
       "1104          0         0          5         9\n",
       "1105         16         M          0         M\n",
       "1106         21        20          0         0\n",
       "1107          5         4          0         0\n",
       "1108          6         5          0         0\n",
       "1109          4         4          0         0\n",
       "1110          3         2          0         0"
      ]
     },
     "execution_count": 53,
     "metadata": {},
     "output_type": "execute_result"
    }
   ],
   "source": [
    "weather.loc[1100:1110,['heat_stn1', 'heat_stn2', 'cool_stn1', 'cool_stn2']] \n",
    "#since the values between heat_stn1 and heat_stn2 are similar, i shall use heat_stn1 value for missing heat_stn2. Same for cool_stn1 and cool_stn2"
   ]
  },
  {
   "cell_type": "code",
   "execution_count": 54,
   "metadata": {},
   "outputs": [],
   "source": [
    "weather['heat_stn2'] = weather.apply(lambda x: x['heat_stn1'] if x['heat_stn2'] == 'M' else x['heat_stn2'], axis=1)\n",
    "weather['cool_stn2'] = weather.apply(lambda x: x['cool_stn1'] if x['cool_stn2'] == 'M' else x['cool_stn2'], axis=1)"
   ]
  },
  {
   "cell_type": "code",
   "execution_count": 55,
   "metadata": {},
   "outputs": [
    {
     "data": {
      "text/html": [
       "<div>\n",
       "<style scoped>\n",
       "    .dataframe tbody tr th:only-of-type {\n",
       "        vertical-align: middle;\n",
       "    }\n",
       "\n",
       "    .dataframe tbody tr th {\n",
       "        vertical-align: top;\n",
       "    }\n",
       "\n",
       "    .dataframe thead th {\n",
       "        text-align: right;\n",
       "    }\n",
       "</style>\n",
       "<table border=\"1\" class=\"dataframe\">\n",
       "  <thead>\n",
       "    <tr style=\"text-align: right;\">\n",
       "      <th></th>\n",
       "      <th>avgspeed_stn2</th>\n",
       "      <th>avgspeed_stn1</th>\n",
       "    </tr>\n",
       "  </thead>\n",
       "  <tbody>\n",
       "    <tr>\n",
       "      <th>43</th>\n",
       "      <td>M</td>\n",
       "      <td>8.6</td>\n",
       "    </tr>\n",
       "    <tr>\n",
       "      <th>872</th>\n",
       "      <td>M</td>\n",
       "      <td>7.3</td>\n",
       "    </tr>\n",
       "    <tr>\n",
       "      <th>1033</th>\n",
       "      <td>M</td>\n",
       "      <td>5.8</td>\n",
       "    </tr>\n",
       "  </tbody>\n",
       "</table>\n",
       "</div>"
      ],
      "text/plain": [
       "     avgspeed_stn2  avgspeed_stn1\n",
       "43               M            8.6\n",
       "872              M            7.3\n",
       "1033             M            5.8"
      ]
     },
     "execution_count": 55,
     "metadata": {},
     "output_type": "execute_result"
    }
   ],
   "source": [
    "weather[weather['avgspeed_stn2']=='M'][['avgspeed_stn2', 'avgspeed_stn1']]"
   ]
  },
  {
   "cell_type": "code",
   "execution_count": 56,
   "metadata": {},
   "outputs": [
    {
     "data": {
      "text/html": [
       "<div>\n",
       "<style scoped>\n",
       "    .dataframe tbody tr th:only-of-type {\n",
       "        vertical-align: middle;\n",
       "    }\n",
       "\n",
       "    .dataframe tbody tr th {\n",
       "        vertical-align: top;\n",
       "    }\n",
       "\n",
       "    .dataframe thead th {\n",
       "        text-align: right;\n",
       "    }\n",
       "</style>\n",
       "<table border=\"1\" class=\"dataframe\">\n",
       "  <thead>\n",
       "    <tr style=\"text-align: right;\">\n",
       "      <th></th>\n",
       "      <th>avgspeed_stn1</th>\n",
       "      <th>avgspeed_stn2</th>\n",
       "    </tr>\n",
       "  </thead>\n",
       "  <tbody>\n",
       "    <tr>\n",
       "      <th>0</th>\n",
       "      <td>9.2</td>\n",
       "      <td>9.6</td>\n",
       "    </tr>\n",
       "    <tr>\n",
       "      <th>1</th>\n",
       "      <td>13.4</td>\n",
       "      <td>13.4</td>\n",
       "    </tr>\n",
       "    <tr>\n",
       "      <th>2</th>\n",
       "      <td>11.9</td>\n",
       "      <td>13.2</td>\n",
       "    </tr>\n",
       "    <tr>\n",
       "      <th>3</th>\n",
       "      <td>10.8</td>\n",
       "      <td>10.4</td>\n",
       "    </tr>\n",
       "    <tr>\n",
       "      <th>4</th>\n",
       "      <td>12.0</td>\n",
       "      <td>11.5</td>\n",
       "    </tr>\n",
       "    <tr>\n",
       "      <th>...</th>\n",
       "      <td>...</td>\n",
       "      <td>...</td>\n",
       "    </tr>\n",
       "    <tr>\n",
       "      <th>1467</th>\n",
       "      <td>12.9</td>\n",
       "      <td>13.6</td>\n",
       "    </tr>\n",
       "    <tr>\n",
       "      <th>1468</th>\n",
       "      <td>15.6</td>\n",
       "      <td>14.6</td>\n",
       "    </tr>\n",
       "    <tr>\n",
       "      <th>1469</th>\n",
       "      <td>9.9</td>\n",
       "      <td>9.0</td>\n",
       "    </tr>\n",
       "    <tr>\n",
       "      <th>1470</th>\n",
       "      <td>5.5</td>\n",
       "      <td>6.5</td>\n",
       "    </tr>\n",
       "    <tr>\n",
       "      <th>1471</th>\n",
       "      <td>22.9</td>\n",
       "      <td>22.6</td>\n",
       "    </tr>\n",
       "  </tbody>\n",
       "</table>\n",
       "<p>1472 rows × 2 columns</p>\n",
       "</div>"
      ],
      "text/plain": [
       "      avgspeed_stn1 avgspeed_stn2\n",
       "0               9.2           9.6\n",
       "1              13.4          13.4\n",
       "2              11.9          13.2\n",
       "3              10.8          10.4\n",
       "4              12.0          11.5\n",
       "...             ...           ...\n",
       "1467           12.9          13.6\n",
       "1468           15.6          14.6\n",
       "1469            9.9           9.0\n",
       "1470            5.5           6.5\n",
       "1471           22.9          22.6\n",
       "\n",
       "[1472 rows x 2 columns]"
      ]
     },
     "execution_count": 56,
     "metadata": {},
     "output_type": "execute_result"
    }
   ],
   "source": [
    "weather[['avgspeed_stn1', 'avgspeed_stn2']] #the values are similar so i will just replace the missing values with values from avgspeed_stn1"
   ]
  },
  {
   "cell_type": "code",
   "execution_count": 57,
   "metadata": {},
   "outputs": [],
   "source": [
    "weather['avgspeed_stn2'] = weather.apply(lambda x: x['avgspeed_stn1'] if x['avgspeed_stn2'] == 'M' else x['avgspeed_stn2'], axis=1)"
   ]
  },
  {
   "cell_type": "code",
   "execution_count": 58,
   "metadata": {},
   "outputs": [
    {
     "name": "stdout",
     "output_type": "stream",
     "text": [
      "snowfall_stn1\n",
      "['0.0' 'T' '0.1']\n",
      "\n",
      "preciptotal_stn1\n",
      "['0.00' 'T' '0.13' '0.38' '0.14' '0.07' '0.02' '1.01' '0.04' '0.01' '0.19'\n",
      " '0.39' '0.42' '0.28' '0.58' '0.05' '0.16' '0.15' '0.40' '0.30' '0.43'\n",
      " '0.11' '1.55' '0.17' '0.03' '1.43' '0.26' '1.31' '0.06' '0.29' '0.41'\n",
      " '0.23' '0.09' '1.33' '0.91' '0.37' '2.35' '0.24' '0.34' '0.18' '0.36'\n",
      " '0.27' '0.33' '1.28' '0.76' '0.95' '0.08' '0.12' '0.48' '0.52' '0.64'\n",
      " '1.24' '0.20' '0.72' '0.73' '1.61' '0.74' '1.05' '2.43' '2.90' '1.23'\n",
      " '6.64' '1.44' '0.82' '0.80' '0.32' '0.67' '0.55' '1.73' '0.44' '0.45'\n",
      " '3.97' '0.25' '0.68' '0.63' '0.35' '0.93' '0.22' '0.75' '0.89' '0.21'\n",
      " '0.46' '1.03' '0.60' '0.81' '0.97' '1.49' '1.02' '0.59' '0.87' '0.85'\n",
      " '0.54' '0.79' '2.79' '3.64' '0.10' '0.31' '2.24' '1.06' '1.88' '6.86'\n",
      " '0.71' '0.70' '1.11' '0.65' '1.21' '0.77' '1.34' '0.47' '1.12' '0.57'\n",
      " '0.51' '1.09' '0.56' '1.35' '0.84' '1.48' '0.92' '0.50' '1.04' '2.09'\n",
      " '1.26' '2.60' '2.76' '0.98' '1.58']\n",
      "\n",
      "preciptotal_stn2\n",
      "['0.00' 'T' '0.02' '0.60' '0.07' '0.11' '0.09' '0.28' '0.08' '0.53' '0.21'\n",
      " '0.32' '0.31' '0.27' '0.16' '0.93' '0.34' '0.35' '0.66' '0.24' '0.92'\n",
      " '0.01' '0.89' '0.04' '0.97' '0.05' '0.06' '0.46' '0.23' '0.45' '0.83'\n",
      " '0.42' '1.33' '0.48' '0.88' '1.96' '0.20' '0.25' '0.67' '0.14' '0.17'\n",
      " '0.19' '0.15' '0.03' '0.41' '0.74' '0.71' '1.46' '0.26' '0.30' '0.22'\n",
      " '1.31' '0.29' '0.12' '0.43' '0.65' '1.22' '0.13' '0.50' '0.59' '2.68'\n",
      " '1.01' '0.62' '3.07' '1.75' '0.86' '0.63' '1.03' '0.70' '1.38' '1.14'\n",
      " '1.07' '0.87' '0.78' '1.12' '0.10' '0.61' '0.54' '1.19' '0.44' '0.33'\n",
      " '0.84' '1.29' '1.05' '1.15' '0.72' '0.40' '1.57' '1.30' '0.51' '1.23'\n",
      " '0.77' '3.15' '4.73' '0.52' '1.60' '0.57' '0.37' '1.90' '0.18' '0.69'\n",
      " '2.17' '0.36' '0.49' '0.39' '0.90' '0.38' '0.56' '0.55' '1.02' '3.66'\n",
      " '1.25' '2.20' '0.85' '0.47' '0.96' '0.80' '0.68' '1.16' '2.03' '1.43'\n",
      " '0.64' '0.73' '2.06' '3.31' '1.82' '3.17' '1.61' '1.18']\n",
      "\n"
     ]
    }
   ],
   "source": [
    "#imputing values for trace\n",
    "for x in col_with_trace:\n",
    "    print(x)\n",
    "    print(weather[x].unique())\n",
    "    print()"
   ]
  },
  {
   "cell_type": "code",
   "execution_count": 59,
   "metadata": {},
   "outputs": [],
   "source": [
    "weather['snowfall_stn1'] = weather['snowfall_stn1'].replace('T', 0.01) #since trace value have to be above 0 and lower than 0.1\n",
    "#since trace value have to be above 0 and below 0.01\n",
    "weather['preciptotal_stn1'] = weather['preciptotal_stn1'].replace('T', 0.001) \n",
    "weather['preciptotal_stn2'] = weather['preciptotal_stn2'].replace('T', 0.001)\n",
    "\n",
    "for col in col_with_trace:\n",
    "    weather[col] = pd.to_numeric(weather[col], errors='coerce')"
   ]
  },
  {
   "cell_type": "code",
   "execution_count": 60,
   "metadata": {},
   "outputs": [],
   "source": [
    "for col in (set(weather.select_dtypes(exclude='number').columns) - set(col_to_convert) - set(col_with_trace) - set(['date'])):\n",
    "    weather[col] = pd.to_numeric(weather[col], errors='coerce')"
   ]
  },
  {
   "cell_type": "code",
   "execution_count": 61,
   "metadata": {},
   "outputs": [
    {
     "data": {
      "text/plain": [
       "date                0\n",
       "tmax_stn1           0\n",
       "tmin_stn1           0\n",
       "tavg_stn1           0\n",
       "depart_stn1         0\n",
       "dewpoint_stn1       0\n",
       "wetbulb_stn1        0\n",
       "heat_stn1           0\n",
       "cool_stn1           0\n",
       "sunrise_stn1        0\n",
       "sunset_stn1         0\n",
       "depth_stn1          0\n",
       "snowfall_stn1       0\n",
       "preciptotal_stn1    0\n",
       "stnpressure_stn1    0\n",
       "sealevel_stn1       0\n",
       "resultspeed_stn1    0\n",
       "resultdir_stn1      0\n",
       "avgspeed_stn1       0\n",
       "tmax_stn2           0\n",
       "tmin_stn2           0\n",
       "tavg_stn2           0\n",
       "dewpoint_stn2       0\n",
       "wetbulb_stn2        0\n",
       "heat_stn2           0\n",
       "cool_stn2           0\n",
       "preciptotal_stn2    0\n",
       "stnpressure_stn2    0\n",
       "sealevel_stn2       0\n",
       "resultspeed_stn2    0\n",
       "resultdir_stn2      0\n",
       "avgspeed_stn2       0\n",
       "year                0\n",
       "month               0\n",
       "day                 0\n",
       "dtype: int64"
      ]
     },
     "execution_count": 61,
     "metadata": {},
     "output_type": "execute_result"
    }
   ],
   "source": [
    "weather.isnull().sum()"
   ]
  },
  {
   "cell_type": "code",
   "execution_count": 62,
   "metadata": {},
   "outputs": [
    {
     "name": "stdout",
     "output_type": "stream",
     "text": [
      "<class 'pandas.core.frame.DataFrame'>\n",
      "Int64Index: 1472 entries, 0 to 1471\n",
      "Data columns (total 35 columns):\n",
      " #   Column            Non-Null Count  Dtype         \n",
      "---  ------            --------------  -----         \n",
      " 0   date              1472 non-null   datetime64[ns]\n",
      " 1   tmax_stn1         1472 non-null   int64         \n",
      " 2   tmin_stn1         1472 non-null   int64         \n",
      " 3   tavg_stn1         1472 non-null   int64         \n",
      " 4   depart_stn1       1472 non-null   int64         \n",
      " 5   dewpoint_stn1     1472 non-null   int64         \n",
      " 6   wetbulb_stn1      1472 non-null   int64         \n",
      " 7   heat_stn1         1472 non-null   int64         \n",
      " 8   cool_stn1         1472 non-null   int64         \n",
      " 9   sunrise_stn1      1472 non-null   int64         \n",
      " 10  sunset_stn1       1472 non-null   int64         \n",
      " 11  depth_stn1        1472 non-null   int64         \n",
      " 12  snowfall_stn1     1472 non-null   float64       \n",
      " 13  preciptotal_stn1  1472 non-null   float64       \n",
      " 14  stnpressure_stn1  1472 non-null   float64       \n",
      " 15  sealevel_stn1     1472 non-null   float64       \n",
      " 16  resultspeed_stn1  1472 non-null   float64       \n",
      " 17  resultdir_stn1    1472 non-null   int64         \n",
      " 18  avgspeed_stn1     1472 non-null   float64       \n",
      " 19  tmax_stn2         1472 non-null   int64         \n",
      " 20  tmin_stn2         1472 non-null   int64         \n",
      " 21  tavg_stn2         1472 non-null   int64         \n",
      " 22  dewpoint_stn2     1472 non-null   int64         \n",
      " 23  wetbulb_stn2      1472 non-null   int64         \n",
      " 24  heat_stn2         1472 non-null   int64         \n",
      " 25  cool_stn2         1472 non-null   int64         \n",
      " 26  preciptotal_stn2  1472 non-null   float64       \n",
      " 27  stnpressure_stn2  1472 non-null   float64       \n",
      " 28  sealevel_stn2     1472 non-null   float64       \n",
      " 29  resultspeed_stn2  1472 non-null   float64       \n",
      " 30  resultdir_stn2    1472 non-null   int64         \n",
      " 31  avgspeed_stn2     1472 non-null   float64       \n",
      " 32  year              1472 non-null   int64         \n",
      " 33  month             1472 non-null   int64         \n",
      " 34  day               1472 non-null   int64         \n",
      "dtypes: datetime64[ns](1), float64(11), int64(23)\n",
      "memory usage: 446.3 KB\n"
     ]
    }
   ],
   "source": [
    "weather.info()"
   ]
  },
  {
   "cell_type": "code",
   "execution_count": 63,
   "metadata": {},
   "outputs": [],
   "source": [
    "train['date'] = pd.to_datetime(train['date'])\n",
    "train = train.merge(weather, on='date')"
   ]
  },
  {
   "cell_type": "code",
   "execution_count": 65,
   "metadata": {},
   "outputs": [],
   "source": [
    "weather.to_csv('tableau_dataset/weather.csv', index=False)\n",
    "spray.to_csv('tableau_dataset/spray.csv', index=False)\n",
    "train.to_csv('tableau_dataset/train.csv', index=False)"
   ]
  }
 ],
 "metadata": {
  "kernelspec": {
   "display_name": "base",
   "language": "python",
   "name": "python3"
  },
  "language_info": {
   "codemirror_mode": {
    "name": "ipython",
    "version": 3
   },
   "file_extension": ".py",
   "mimetype": "text/x-python",
   "name": "python",
   "nbconvert_exporter": "python",
   "pygments_lexer": "ipython3",
   "version": "3.10.9"
  },
  "orig_nbformat": 4
 },
 "nbformat": 4,
 "nbformat_minor": 2
}
